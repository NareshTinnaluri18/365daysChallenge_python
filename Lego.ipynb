{
 "cells": [
  {
   "cell_type": "markdown",
   "metadata": {},
   "source": [
    "Lego Stack\n",
    "Description\n",
    "You are given a row of Lego Blocks consisting of n blocks. All the blocks given have a square base whose side length is known. You need to stack the blocks over each other and create a vertical tower. Block-1 can go over Block-2 only if sideLength(Block-2)=>sideLength(Block-1).\n",
    "\n",
    "From the row of Lego blocks, you can only pick up either the leftmost or rightmost block.\n",
    "\n",
    "Print \"Possible\" if it is possible to stack all n cubes this way or else print \"Impossible\".\n",
    "\n",
    "\n",
    "\n",
    "Input Format:\n",
    "\n",
    "The input will contain a list of n integers representing the side length of each block's base in the row starting from the leftmost."
   ]
  },
  {
   "cell_type": "code",
   "execution_count": 12,
   "metadata": {},
   "outputs": [
    {
     "name": "stdout",
     "output_type": "stream",
     "text": [
      "Possible\n"
     ]
    }
   ],
   "source": [
    "import ast\n",
    "#input_str = input()\n",
    "sides = [5 ,4, 2, 1, 4,5]#list of side lengths\n",
    "\n",
    "#we will make a tower by taking the larger lego(brick) from one of the ends \n",
    "#of the list and then remove that element\n",
    "tower=[]\n",
    "\n",
    "while sides: #while sides is not empty\n",
    "    if sides[0]>=sides[-1]:\n",
    "        tower.append(int(sides[0]))\n",
    "        sides.pop()\n",
    "    else:\n",
    "        tower.append(int(sides[-1]))\n",
    "        sides.pop(-1)\n",
    "\n",
    "#now we check if all the elements are in descending order in tower\n",
    "flag=1\n",
    "for i in range(len(tower)-1):\n",
    "    if tower[i]<tower[i+1]:\n",
    "        flag=0\n",
    "        break\n",
    "if(flag==1):\n",
    "    print('Possible')\n",
    "else:\n",
    "    print('Impossible')\n",
    "    \n",
    "\n",
    "    "
   ]
  },
  {
   "cell_type": "code",
   "execution_count": null,
   "metadata": {},
   "outputs": [],
   "source": []
  }
 ],
 "metadata": {
  "kernelspec": {
   "display_name": "Python 3",
   "language": "python",
   "name": "python3"
  },
  "language_info": {
   "codemirror_mode": {
    "name": "ipython",
    "version": 3
   },
   "file_extension": ".py",
   "mimetype": "text/x-python",
   "name": "python",
   "nbconvert_exporter": "python",
   "pygments_lexer": "ipython3",
   "version": "3.8.3"
  }
 },
 "nbformat": 4,
 "nbformat_minor": 4
}
