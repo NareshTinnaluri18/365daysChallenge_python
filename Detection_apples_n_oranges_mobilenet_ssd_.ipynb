{
  "nbformat": 4,
  "nbformat_minor": 0,
  "metadata": {
    "colab": {
      "name": "Detection_apples_n_oranges_mobilenet_ssd.",
      "provenance": [],
      "mount_file_id": "1pgUup2NAbqEEyPMBxhAfCbLiudht2GKo",
      "authorship_tag": "ABX9TyP0e5nDpaCyQVX+WmBiz4O1",
      "include_colab_link": true
    },
    "kernelspec": {
      "name": "python3",
      "display_name": "Python 3"
    },
    "language_info": {
      "name": "python"
    }
  },
  "cells": [
    {
      "cell_type": "markdown",
      "metadata": {
        "id": "view-in-github",
        "colab_type": "text"
      },
      "source": [
        "<a href=\"https://colab.research.google.com/github/NareshTinnaluri18/365daysChallenge_python/blob/main/Detection_apples_n_oranges_mobilenet_ssd_.ipynb\" target=\"_parent\"><img src=\"https://colab.research.google.com/assets/colab-badge.svg\" alt=\"Open In Colab\"/></a>"
      ]
    },
    {
      "cell_type": "code",
      "execution_count": null,
      "metadata": {
        "id": "GLM0rbVudbLb"
      },
      "outputs": [],
      "source": [
        ""
      ]
    },
    {
      "cell_type": "code",
      "source": [
        "from google.colab import drive\n",
        "drive.mount('/content/drive')"
      ],
      "metadata": {
        "colab": {
          "base_uri": "https://localhost:8080/"
        },
        "id": "4KjDbcuLdpQl",
        "outputId": "04079ecc-ce0e-4999-9769-a384711ae75d"
      },
      "execution_count": 2,
      "outputs": [
        {
          "output_type": "stream",
          "name": "stdout",
          "text": [
            "Mounted at /content/drive\n",
            "Drive already mounted at /content/drive; to attempt to forcibly remount, call drive.mount(\"/content/drive\", force_remount=True).\n"
          ]
        }
      ]
    },
    {
      "cell_type": "code",
      "source": [
        "%cd /content/drive/MyDrive/SSD-Tensorflow-On-Custom-Dataset-main"
      ],
      "metadata": {
        "colab": {
          "base_uri": "https://localhost:8080/"
        },
        "id": "MLCf6XWrdp9T",
        "outputId": "679ff023-23e8-4a93-9d97-97fb590b43d0"
      },
      "execution_count": 3,
      "outputs": [
        {
          "output_type": "stream",
          "name": "stdout",
          "text": [
            "/content/drive/MyDrive/SSD-Tensorflow-On-Custom-Dataset-main\n"
          ]
        }
      ]
    },
    {
      "cell_type": "code",
      "source": [
        "!python train_ssd_network.py --dataset_name=pascalvoc_2007 --dataset_split_name=train --model_name=ssd_300_vgg --save_summaries_secs=60 --save_interval_secs=600 --weight_decay=0.0005 --optimizer=adam --learning_rate=0.001 --batch_size=6 --gpu_memory_fraction=0.9 --checkpoint_exclude_scopes =ssd_300_vgg/conv6,ssd_300_vgg/conv7,ssd_300_vgg/block8,ssd_300_vgg/block9,ssd_300_vgg/block10,ssd_300_vgg/block11,ssd_300_vgg/block4_box,ssd_300_vgg/block7_box,ssd_300_vgg/block8_box,ssd_300_vgg/block9_box,ssd_300_vgg/block10_box,ssd_300_vgg/block11_box"
      ],
      "metadata": {
        "colab": {
          "base_uri": "https://localhost:8080/"
        },
        "id": "GiWVuEmXd7Qb",
        "outputId": "f5fa7ac2-ff61-4a00-b497-629c0495a8b7"
      },
      "execution_count": 9,
      "outputs": [
        {
          "output_type": "stream",
          "name": "stdout",
          "text": [
            "Traceback (most recent call last):\n",
            "  File \"train_ssd_network.py\", line 19, in <module>\n",
            "    from datasets import dataset_factory\n",
            "  File \"/content/drive/MyDrive/SSD-Tensorflow-On-Custom-Dataset-main/datasets/dataset_factory.py\", line 24, in <module>\n",
            "    from datasets import pascalvoc_2007\n",
            "  File \"/content/drive/MyDrive/SSD-Tensorflow-On-Custom-Dataset-main/datasets/pascalvoc_2007.py\", line 21, in <module>\n",
            "    from datasets import pascalvoc_common\n",
            "  File \"/content/drive/MyDrive/SSD-Tensorflow-On-Custom-Dataset-main/datasets/pascalvoc_common.py\", line 22, in <module>\n",
            "    slim = tf.contrib.slim\n",
            "AttributeError: module 'tensorflow' has no attribute 'contrib'\n"
          ]
        }
      ]
    },
    {
      "cell_type": "code",
      "source": [
        "import tensorflow as tf\n",
        "print(tf. __version__)"
      ],
      "metadata": {
        "colab": {
          "base_uri": "https://localhost:8080/"
        },
        "id": "K2kriEXGfUSN",
        "outputId": "5b3fc650-7ea1-4a0d-9286-863d962ae5ae"
      },
      "execution_count": 10,
      "outputs": [
        {
          "output_type": "stream",
          "name": "stdout",
          "text": [
            "2.8.0\n"
          ]
        }
      ]
    },
    {
      "cell_type": "code",
      "source": [
        "!pip show tensorflow"
      ],
      "metadata": {
        "colab": {
          "base_uri": "https://localhost:8080/"
        },
        "id": "RzxPlp0VlZHJ",
        "outputId": "64108c36-78c8-457b-ca4e-155a3a8621ef"
      },
      "execution_count": 11,
      "outputs": [
        {
          "output_type": "stream",
          "name": "stdout",
          "text": [
            "Name: tensorflow\n",
            "Version: 2.8.0\n",
            "Summary: TensorFlow is an open source machine learning framework for everyone.\n",
            "Home-page: https://www.tensorflow.org/\n",
            "Author: Google Inc.\n",
            "Author-email: packages@tensorflow.org\n",
            "License: Apache 2.0\n",
            "Location: /usr/local/lib/python3.7/dist-packages\n",
            "Requires: tf-estimator-nightly, keras-preprocessing, keras, tensorflow-io-gcs-filesystem, grpcio, absl-py, google-pasta, setuptools, wrapt, astunparse, opt-einsum, h5py, numpy, six, typing-extensions, gast, protobuf, flatbuffers, termcolor, tensorboard, libclang\n",
            "Required-by: kapre\n"
          ]
        }
      ]
    },
    {
      "cell_type": "code",
      "source": [
        "!python -m pip install --upgrade pip==20.2"
      ],
      "metadata": {
        "colab": {
          "base_uri": "https://localhost:8080/"
        },
        "id": "gnOWywFel6FJ",
        "outputId": "d68e46b0-4e0c-4439-da2f-74168fa5c53c"
      },
      "execution_count": 12,
      "outputs": [
        {
          "output_type": "stream",
          "name": "stdout",
          "text": [
            "Collecting pip==20.2\n",
            "  Downloading pip-20.2-py2.py3-none-any.whl (1.5 MB)\n",
            "\u001b[?25l\r\u001b[K     |▏                               | 10 kB 17.3 MB/s eta 0:00:01\r\u001b[K     |▍                               | 20 kB 16.5 MB/s eta 0:00:01\r\u001b[K     |▋                               | 30 kB 10.2 MB/s eta 0:00:01\r\u001b[K     |▉                               | 40 kB 8.5 MB/s eta 0:00:01\r\u001b[K     |█                               | 51 kB 5.0 MB/s eta 0:00:01\r\u001b[K     |█▎                              | 61 kB 5.9 MB/s eta 0:00:01\r\u001b[K     |█▌                              | 71 kB 5.8 MB/s eta 0:00:01\r\u001b[K     |█▊                              | 81 kB 5.5 MB/s eta 0:00:01\r\u001b[K     |██                              | 92 kB 6.1 MB/s eta 0:00:01\r\u001b[K     |██▏                             | 102 kB 5.5 MB/s eta 0:00:01\r\u001b[K     |██▍                             | 112 kB 5.5 MB/s eta 0:00:01\r\u001b[K     |██▋                             | 122 kB 5.5 MB/s eta 0:00:01\r\u001b[K     |██▉                             | 133 kB 5.5 MB/s eta 0:00:01\r\u001b[K     |███                             | 143 kB 5.5 MB/s eta 0:00:01\r\u001b[K     |███▎                            | 153 kB 5.5 MB/s eta 0:00:01\r\u001b[K     |███▌                            | 163 kB 5.5 MB/s eta 0:00:01\r\u001b[K     |███▊                            | 174 kB 5.5 MB/s eta 0:00:01\r\u001b[K     |████                            | 184 kB 5.5 MB/s eta 0:00:01\r\u001b[K     |████▏                           | 194 kB 5.5 MB/s eta 0:00:01\r\u001b[K     |████▍                           | 204 kB 5.5 MB/s eta 0:00:01\r\u001b[K     |████▋                           | 215 kB 5.5 MB/s eta 0:00:01\r\u001b[K     |████▉                           | 225 kB 5.5 MB/s eta 0:00:01\r\u001b[K     |█████                           | 235 kB 5.5 MB/s eta 0:00:01\r\u001b[K     |█████▎                          | 245 kB 5.5 MB/s eta 0:00:01\r\u001b[K     |█████▌                          | 256 kB 5.5 MB/s eta 0:00:01\r\u001b[K     |█████▊                          | 266 kB 5.5 MB/s eta 0:00:01\r\u001b[K     |█████▉                          | 276 kB 5.5 MB/s eta 0:00:01\r\u001b[K     |██████                          | 286 kB 5.5 MB/s eta 0:00:01\r\u001b[K     |██████▎                         | 296 kB 5.5 MB/s eta 0:00:01\r\u001b[K     |██████▌                         | 307 kB 5.5 MB/s eta 0:00:01\r\u001b[K     |██████▊                         | 317 kB 5.5 MB/s eta 0:00:01\r\u001b[K     |███████                         | 327 kB 5.5 MB/s eta 0:00:01\r\u001b[K     |███████▏                        | 337 kB 5.5 MB/s eta 0:00:01\r\u001b[K     |███████▍                        | 348 kB 5.5 MB/s eta 0:00:01\r\u001b[K     |███████▋                        | 358 kB 5.5 MB/s eta 0:00:01\r\u001b[K     |███████▉                        | 368 kB 5.5 MB/s eta 0:00:01\r\u001b[K     |████████                        | 378 kB 5.5 MB/s eta 0:00:01\r\u001b[K     |████████▎                       | 389 kB 5.5 MB/s eta 0:00:01\r\u001b[K     |████████▌                       | 399 kB 5.5 MB/s eta 0:00:01\r\u001b[K     |████████▊                       | 409 kB 5.5 MB/s eta 0:00:01\r\u001b[K     |█████████                       | 419 kB 5.5 MB/s eta 0:00:01\r\u001b[K     |█████████▏                      | 430 kB 5.5 MB/s eta 0:00:01\r\u001b[K     |█████████▍                      | 440 kB 5.5 MB/s eta 0:00:01\r\u001b[K     |█████████▋                      | 450 kB 5.5 MB/s eta 0:00:01\r\u001b[K     |█████████▉                      | 460 kB 5.5 MB/s eta 0:00:01\r\u001b[K     |██████████                      | 471 kB 5.5 MB/s eta 0:00:01\r\u001b[K     |██████████▎                     | 481 kB 5.5 MB/s eta 0:00:01\r\u001b[K     |██████████▌                     | 491 kB 5.5 MB/s eta 0:00:01\r\u001b[K     |██████████▊                     | 501 kB 5.5 MB/s eta 0:00:01\r\u001b[K     |███████████                     | 512 kB 5.5 MB/s eta 0:00:01\r\u001b[K     |███████████▏                    | 522 kB 5.5 MB/s eta 0:00:01\r\u001b[K     |███████████▍                    | 532 kB 5.5 MB/s eta 0:00:01\r\u001b[K     |███████████▌                    | 542 kB 5.5 MB/s eta 0:00:01\r\u001b[K     |███████████▊                    | 552 kB 5.5 MB/s eta 0:00:01\r\u001b[K     |████████████                    | 563 kB 5.5 MB/s eta 0:00:01\r\u001b[K     |████████████▏                   | 573 kB 5.5 MB/s eta 0:00:01\r\u001b[K     |████████████▍                   | 583 kB 5.5 MB/s eta 0:00:01\r\u001b[K     |████████████▋                   | 593 kB 5.5 MB/s eta 0:00:01\r\u001b[K     |████████████▉                   | 604 kB 5.5 MB/s eta 0:00:01\r\u001b[K     |█████████████                   | 614 kB 5.5 MB/s eta 0:00:01\r\u001b[K     |█████████████▎                  | 624 kB 5.5 MB/s eta 0:00:01\r\u001b[K     |█████████████▌                  | 634 kB 5.5 MB/s eta 0:00:01\r\u001b[K     |█████████████▊                  | 645 kB 5.5 MB/s eta 0:00:01\r\u001b[K     |██████████████                  | 655 kB 5.5 MB/s eta 0:00:01\r\u001b[K     |██████████████▏                 | 665 kB 5.5 MB/s eta 0:00:01\r\u001b[K     |██████████████▍                 | 675 kB 5.5 MB/s eta 0:00:01\r\u001b[K     |██████████████▋                 | 686 kB 5.5 MB/s eta 0:00:01\r\u001b[K     |██████████████▉                 | 696 kB 5.5 MB/s eta 0:00:01\r\u001b[K     |███████████████                 | 706 kB 5.5 MB/s eta 0:00:01\r\u001b[K     |███████████████▎                | 716 kB 5.5 MB/s eta 0:00:01\r\u001b[K     |███████████████▌                | 727 kB 5.5 MB/s eta 0:00:01\r\u001b[K     |███████████████▊                | 737 kB 5.5 MB/s eta 0:00:01\r\u001b[K     |████████████████                | 747 kB 5.5 MB/s eta 0:00:01\r\u001b[K     |████████████████▏               | 757 kB 5.5 MB/s eta 0:00:01\r\u001b[K     |████████████████▍               | 768 kB 5.5 MB/s eta 0:00:01\r\u001b[K     |████████████████▋               | 778 kB 5.5 MB/s eta 0:00:01\r\u001b[K     |████████████████▉               | 788 kB 5.5 MB/s eta 0:00:01\r\u001b[K     |█████████████████               | 798 kB 5.5 MB/s eta 0:00:01\r\u001b[K     |█████████████████▎              | 808 kB 5.5 MB/s eta 0:00:01\r\u001b[K     |█████████████████▍              | 819 kB 5.5 MB/s eta 0:00:01\r\u001b[K     |█████████████████▋              | 829 kB 5.5 MB/s eta 0:00:01\r\u001b[K     |█████████████████▉              | 839 kB 5.5 MB/s eta 0:00:01\r\u001b[K     |██████████████████              | 849 kB 5.5 MB/s eta 0:00:01\r\u001b[K     |██████████████████▎             | 860 kB 5.5 MB/s eta 0:00:01\r\u001b[K     |██████████████████▌             | 870 kB 5.5 MB/s eta 0:00:01\r\u001b[K     |██████████████████▊             | 880 kB 5.5 MB/s eta 0:00:01\r\u001b[K     |███████████████████             | 890 kB 5.5 MB/s eta 0:00:01\r\u001b[K     |███████████████████▏            | 901 kB 5.5 MB/s eta 0:00:01\r\u001b[K     |███████████████████▍            | 911 kB 5.5 MB/s eta 0:00:01\r\u001b[K     |███████████████████▋            | 921 kB 5.5 MB/s eta 0:00:01\r\u001b[K     |███████████████████▉            | 931 kB 5.5 MB/s eta 0:00:01\r\u001b[K     |████████████████████            | 942 kB 5.5 MB/s eta 0:00:01\r\u001b[K     |████████████████████▎           | 952 kB 5.5 MB/s eta 0:00:01\r\u001b[K     |████████████████████▌           | 962 kB 5.5 MB/s eta 0:00:01\r\u001b[K     |████████████████████▊           | 972 kB 5.5 MB/s eta 0:00:01\r\u001b[K     |█████████████████████           | 983 kB 5.5 MB/s eta 0:00:01\r\u001b[K     |█████████████████████▏          | 993 kB 5.5 MB/s eta 0:00:01\r\u001b[K     |█████████████████████▍          | 1.0 MB 5.5 MB/s eta 0:00:01\r\u001b[K     |█████████████████████▋          | 1.0 MB 5.5 MB/s eta 0:00:01\r\u001b[K     |█████████████████████▉          | 1.0 MB 5.5 MB/s eta 0:00:01\r\u001b[K     |██████████████████████          | 1.0 MB 5.5 MB/s eta 0:00:01\r\u001b[K     |██████████████████████▎         | 1.0 MB 5.5 MB/s eta 0:00:01\r\u001b[K     |██████████████████████▌         | 1.1 MB 5.5 MB/s eta 0:00:01\r\u001b[K     |██████████████████████▊         | 1.1 MB 5.5 MB/s eta 0:00:01\r\u001b[K     |███████████████████████         | 1.1 MB 5.5 MB/s eta 0:00:01\r\u001b[K     |███████████████████████         | 1.1 MB 5.5 MB/s eta 0:00:01\r\u001b[K     |███████████████████████▎        | 1.1 MB 5.5 MB/s eta 0:00:01\r\u001b[K     |███████████████████████▌        | 1.1 MB 5.5 MB/s eta 0:00:01\r\u001b[K     |███████████████████████▊        | 1.1 MB 5.5 MB/s eta 0:00:01\r\u001b[K     |████████████████████████        | 1.1 MB 5.5 MB/s eta 0:00:01\r\u001b[K     |████████████████████████▏       | 1.1 MB 5.5 MB/s eta 0:00:01\r\u001b[K     |████████████████████████▍       | 1.1 MB 5.5 MB/s eta 0:00:01\r\u001b[K     |████████████████████████▋       | 1.2 MB 5.5 MB/s eta 0:00:01\r\u001b[K     |████████████████████████▉       | 1.2 MB 5.5 MB/s eta 0:00:01\r\u001b[K     |█████████████████████████       | 1.2 MB 5.5 MB/s eta 0:00:01\r\u001b[K     |█████████████████████████▎      | 1.2 MB 5.5 MB/s eta 0:00:01\r\u001b[K     |█████████████████████████▌      | 1.2 MB 5.5 MB/s eta 0:00:01\r\u001b[K     |█████████████████████████▊      | 1.2 MB 5.5 MB/s eta 0:00:01\r\u001b[K     |██████████████████████████      | 1.2 MB 5.5 MB/s eta 0:00:01\r\u001b[K     |██████████████████████████▏     | 1.2 MB 5.5 MB/s eta 0:00:01\r\u001b[K     |██████████████████████████▍     | 1.2 MB 5.5 MB/s eta 0:00:01\r\u001b[K     |██████████████████████████▋     | 1.2 MB 5.5 MB/s eta 0:00:01\r\u001b[K     |██████████████████████████▉     | 1.3 MB 5.5 MB/s eta 0:00:01\r\u001b[K     |███████████████████████████     | 1.3 MB 5.5 MB/s eta 0:00:01\r\u001b[K     |███████████████████████████▎    | 1.3 MB 5.5 MB/s eta 0:00:01\r\u001b[K     |███████████████████████████▌    | 1.3 MB 5.5 MB/s eta 0:00:01\r\u001b[K     |███████████████████████████▊    | 1.3 MB 5.5 MB/s eta 0:00:01\r\u001b[K     |████████████████████████████    | 1.3 MB 5.5 MB/s eta 0:00:01\r\u001b[K     |████████████████████████████▏   | 1.3 MB 5.5 MB/s eta 0:00:01\r\u001b[K     |████████████████████████████▍   | 1.3 MB 5.5 MB/s eta 0:00:01\r\u001b[K     |████████████████████████████▋   | 1.3 MB 5.5 MB/s eta 0:00:01\r\u001b[K     |████████████████████████████▉   | 1.4 MB 5.5 MB/s eta 0:00:01\r\u001b[K     |█████████████████████████████   | 1.4 MB 5.5 MB/s eta 0:00:01\r\u001b[K     |█████████████████████████████▏  | 1.4 MB 5.5 MB/s eta 0:00:01\r\u001b[K     |█████████████████████████████▍  | 1.4 MB 5.5 MB/s eta 0:00:01\r\u001b[K     |█████████████████████████████▋  | 1.4 MB 5.5 MB/s eta 0:00:01\r\u001b[K     |█████████████████████████████▉  | 1.4 MB 5.5 MB/s eta 0:00:01\r\u001b[K     |██████████████████████████████  | 1.4 MB 5.5 MB/s eta 0:00:01\r\u001b[K     |██████████████████████████████▎ | 1.4 MB 5.5 MB/s eta 0:00:01\r\u001b[K     |██████████████████████████████▌ | 1.4 MB 5.5 MB/s eta 0:00:01\r\u001b[K     |██████████████████████████████▊ | 1.4 MB 5.5 MB/s eta 0:00:01\r\u001b[K     |███████████████████████████████ | 1.5 MB 5.5 MB/s eta 0:00:01\r\u001b[K     |███████████████████████████████▏| 1.5 MB 5.5 MB/s eta 0:00:01\r\u001b[K     |███████████████████████████████▍| 1.5 MB 5.5 MB/s eta 0:00:01\r\u001b[K     |███████████████████████████████▋| 1.5 MB 5.5 MB/s eta 0:00:01\r\u001b[K     |███████████████████████████████▉| 1.5 MB 5.5 MB/s eta 0:00:01\r\u001b[K     |████████████████████████████████| 1.5 MB 5.5 MB/s \n",
            "\u001b[?25hInstalling collected packages: pip\n",
            "  Attempting uninstall: pip\n",
            "    Found existing installation: pip 21.1.3\n",
            "    Uninstalling pip-21.1.3:\n",
            "      Successfully uninstalled pip-21.1.3\n",
            "\u001b[31mERROR: pip's dependency resolver does not currently take into account all the packages that are installed. This behaviour is the source of the following dependency conflicts.\n",
            "pip-tools 6.2.0 requires pip>=20.3, but you have pip 20.2 which is incompatible.\u001b[0m\n",
            "Successfully installed pip-20.2\n"
          ]
        }
      ]
    },
    {
      "cell_type": "code",
      "source": [
        "!pip install tensorflow==1.15"
      ],
      "metadata": {
        "colab": {
          "base_uri": "https://localhost:8080/",
          "height": 1000
        },
        "id": "MYVzrqxumEV0",
        "outputId": "366c3f20-d277-43a2-db7f-a5da947e2353"
      },
      "execution_count": 13,
      "outputs": [
        {
          "output_type": "stream",
          "name": "stdout",
          "text": [
            "Collecting tensorflow==1.15\n",
            "  Downloading tensorflow-1.15.0-cp37-cp37m-manylinux2010_x86_64.whl (412.3 MB)\n",
            "\u001b[K     |████████████████████████████████| 412.3 MB 23 kB/s \n",
            "\u001b[?25hRequirement already satisfied: wheel>=0.26 in /usr/local/lib/python3.7/dist-packages (from tensorflow==1.15) (0.37.1)\n",
            "Requirement already satisfied: keras-preprocessing>=1.0.5 in /usr/local/lib/python3.7/dist-packages (from tensorflow==1.15) (1.1.2)\n",
            "Requirement already satisfied: astor>=0.6.0 in /usr/local/lib/python3.7/dist-packages (from tensorflow==1.15) (0.8.1)\n",
            "Collecting gast==0.2.2\n",
            "  Downloading gast-0.2.2.tar.gz (10 kB)\n",
            "Collecting tensorflow-estimator==1.15.1\n",
            "  Downloading tensorflow_estimator-1.15.1-py2.py3-none-any.whl (503 kB)\n",
            "\u001b[K     |████████████████████████████████| 503 kB 59.3 MB/s \n",
            "\u001b[?25hRequirement already satisfied: absl-py>=0.7.0 in /usr/local/lib/python3.7/dist-packages (from tensorflow==1.15) (1.0.0)\n",
            "Requirement already satisfied: protobuf>=3.6.1 in /usr/local/lib/python3.7/dist-packages (from tensorflow==1.15) (3.17.3)\n",
            "Requirement already satisfied: six>=1.10.0 in /usr/local/lib/python3.7/dist-packages (from tensorflow==1.15) (1.15.0)\n",
            "Requirement already satisfied: grpcio>=1.8.6 in /usr/local/lib/python3.7/dist-packages (from tensorflow==1.15) (1.44.0)\n",
            "Requirement already satisfied: opt-einsum>=2.3.2 in /usr/local/lib/python3.7/dist-packages (from tensorflow==1.15) (3.3.0)\n",
            "Requirement already satisfied: google-pasta>=0.1.6 in /usr/local/lib/python3.7/dist-packages (from tensorflow==1.15) (0.2.0)\n",
            "Requirement already satisfied: termcolor>=1.1.0 in /usr/local/lib/python3.7/dist-packages (from tensorflow==1.15) (1.1.0)\n",
            "Collecting keras-applications>=1.0.8\n",
            "  Downloading Keras_Applications-1.0.8-py3-none-any.whl (50 kB)\n",
            "\u001b[K     |████████████████████████████████| 50 kB 6.2 MB/s \n",
            "\u001b[?25hCollecting tensorboard<1.16.0,>=1.15.0\n",
            "  Downloading tensorboard-1.15.0-py3-none-any.whl (3.8 MB)\n",
            "\u001b[K     |████████████████████████████████| 3.8 MB 37.2 MB/s \n",
            "\u001b[?25hRequirement already satisfied: numpy<2.0,>=1.16.0 in /usr/local/lib/python3.7/dist-packages (from tensorflow==1.15) (1.21.5)\n",
            "Requirement already satisfied: wrapt>=1.11.1 in /usr/local/lib/python3.7/dist-packages (from tensorflow==1.15) (1.14.0)\n",
            "Requirement already satisfied: h5py in /usr/local/lib/python3.7/dist-packages (from keras-applications>=1.0.8->tensorflow==1.15) (3.1.0)\n",
            "Requirement already satisfied: werkzeug>=0.11.15 in /usr/local/lib/python3.7/dist-packages (from tensorboard<1.16.0,>=1.15.0->tensorflow==1.15) (1.0.1)\n",
            "Requirement already satisfied: setuptools>=41.0.0 in /usr/local/lib/python3.7/dist-packages (from tensorboard<1.16.0,>=1.15.0->tensorflow==1.15) (57.4.0)\n",
            "Requirement already satisfied: markdown>=2.6.8 in /usr/local/lib/python3.7/dist-packages (from tensorboard<1.16.0,>=1.15.0->tensorflow==1.15) (3.3.6)\n",
            "Requirement already satisfied: cached-property; python_version < \"3.8\" in /usr/local/lib/python3.7/dist-packages (from h5py->keras-applications>=1.0.8->tensorflow==1.15) (1.5.2)\n",
            "Requirement already satisfied: importlib-metadata>=4.4; python_version < \"3.10\" in /usr/local/lib/python3.7/dist-packages (from markdown>=2.6.8->tensorboard<1.16.0,>=1.15.0->tensorflow==1.15) (4.11.3)\n",
            "Requirement already satisfied: zipp>=0.5 in /usr/local/lib/python3.7/dist-packages (from importlib-metadata>=4.4; python_version < \"3.10\"->markdown>=2.6.8->tensorboard<1.16.0,>=1.15.0->tensorflow==1.15) (3.7.0)\n",
            "Requirement already satisfied: typing-extensions>=3.6.4; python_version < \"3.8\" in /usr/local/lib/python3.7/dist-packages (from importlib-metadata>=4.4; python_version < \"3.10\"->markdown>=2.6.8->tensorboard<1.16.0,>=1.15.0->tensorflow==1.15) (3.10.0.2)\n",
            "Building wheels for collected packages: gast\n",
            "  Building wheel for gast (setup.py) ... \u001b[?25l\u001b[?25hdone\n",
            "  Created wheel for gast: filename=gast-0.2.2-py3-none-any.whl size=7554 sha256=78261169eb0188073a7a436080dee29072b592244c85ca56c6b95ae76d8cb21f\n",
            "  Stored in directory: /root/.cache/pip/wheels/21/7f/02/420f32a803f7d0967b48dd823da3f558c5166991bfd204eef3\n",
            "Successfully built gast\n",
            "Installing collected packages: gast, tensorflow-estimator, keras-applications, tensorboard, tensorflow\n",
            "  Attempting uninstall: gast\n",
            "    Found existing installation: gast 0.5.3\n",
            "    Uninstalling gast-0.5.3:\n",
            "      Successfully uninstalled gast-0.5.3\n",
            "  Attempting uninstall: tensorflow-estimator\n",
            "    Found existing installation: tensorflow-estimator 2.8.0\n",
            "    Uninstalling tensorflow-estimator-2.8.0:\n",
            "      Successfully uninstalled tensorflow-estimator-2.8.0\n",
            "  Attempting uninstall: tensorboard\n",
            "    Found existing installation: tensorboard 2.8.0\n",
            "    Uninstalling tensorboard-2.8.0:\n",
            "      Successfully uninstalled tensorboard-2.8.0\n",
            "  Attempting uninstall: tensorflow\n",
            "    Found existing installation: tensorflow 2.8.0\n",
            "    Uninstalling tensorflow-2.8.0:\n",
            "      Successfully uninstalled tensorflow-2.8.0\n",
            "\u001b[31mERROR: After October 2020 you may experience errors when installing or updating packages. This is because pip will change the way that it resolves dependency conflicts.\n",
            "\n",
            "We recommend you use --use-feature=2020-resolver to test your packages with the new resolver before it becomes the default.\n",
            "\n",
            "tensorflow-probability 0.16.0 requires gast>=0.3.2, but you'll have gast 0.2.2 which is incompatible.\n",
            "kapre 0.3.7 requires tensorflow>=2.0.0, but you'll have tensorflow 1.15.0 which is incompatible.\u001b[0m\n",
            "Successfully installed gast-0.2.2 keras-applications-1.0.8 tensorboard-1.15.0 tensorflow-1.15.0 tensorflow-estimator-1.15.1\n"
          ]
        },
        {
          "output_type": "display_data",
          "data": {
            "application/vnd.colab-display-data+json": {
              "pip_warning": {
                "packages": [
                  "gast",
                  "tensorboard",
                  "tensorflow"
                ]
              }
            }
          },
          "metadata": {}
        }
      ]
    },
    {
      "cell_type": "code",
      "source": [
        ""
      ],
      "metadata": {
        "id": "_U6vWQqXmOeJ"
      },
      "execution_count": null,
      "outputs": []
    }
  ]
}